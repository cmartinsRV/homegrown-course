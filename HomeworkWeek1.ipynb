{
  "nbformat": 4,
  "nbformat_minor": 0,
  "metadata": {
    "colab": {
      "name": "HomeworkWeek1.ipynb",
      "provenance": [],
      "authorship_tag": "ABX9TyNZXr3nf8C0MbzL5JItqfFr",
      "include_colab_link": true
    },
    "kernelspec": {
      "name": "python3",
      "display_name": "Python 3"
    },
    "language_info": {
      "name": "python"
    }
  },
  "cells": [
    {
      "cell_type": "markdown",
      "metadata": {
        "id": "view-in-github",
        "colab_type": "text"
      },
      "source": [
        "<a href=\"https://colab.research.google.com/github/cmartinsRV/homegrown-course/blob/main/HomeworkWeek1.ipynb\" target=\"_parent\"><img src=\"https://colab.research.google.com/assets/colab-badge.svg\" alt=\"Open In Colab\"/></a>"
      ]
    },
    {
      "cell_type": "markdown",
      "source": [
        "#Introduction to Phyton"
      ],
      "metadata": {
        "id": "OhRIgPpImoJI"
      }
    },
    {
      "cell_type": "markdown",
      "source": [
        "\n",
        "This is how we print something to the screen using Python:"
      ],
      "metadata": {
        "id": "gYs0VJHRmvbK"
      }
    },
    {
      "cell_type": "code",
      "source": [
        "print('Hello 2022 Accelerator!')"
      ],
      "metadata": {
        "id": "y5uZ4fV1my91",
        "outputId": "37f080fb-a255-4ecf-f383-d3326971c0e2",
        "colab": {
          "base_uri": "https://localhost:8080/"
        }
      },
      "execution_count": null,
      "outputs": [
        {
          "output_type": "stream",
          "name": "stdout",
          "text": [
            "Hello 2022 Accelerator!\n"
          ]
        }
      ]
    }
  ]
}